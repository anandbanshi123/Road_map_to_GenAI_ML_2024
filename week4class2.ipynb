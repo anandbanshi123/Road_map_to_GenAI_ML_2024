{
 "cells": [
  {
   "cell_type": "code",
   "execution_count": 1,
   "id": "94865396-f89b-404b-81a2-73ac03ed9636",
   "metadata": {},
   "outputs": [],
   "source": [
    "import pandas as pd"
   ]
  },
  {
   "cell_type": "code",
   "execution_count": 2,
   "id": "96b34078-1e71-4a78-a8e3-9b713b39951b",
   "metadata": {},
   "outputs": [],
   "source": [
    "nums=[3,5,6,13,7,9,10,23]"
   ]
  },
  {
   "cell_type": "code",
   "execution_count": 3,
   "id": "02952c9f-228b-4d72-8d6a-fc69bed21e64",
   "metadata": {},
   "outputs": [
    {
     "data": {
      "text/plain": [
       "0     3\n",
       "1     5\n",
       "2     6\n",
       "3    13\n",
       "4     7\n",
       "5     9\n",
       "6    10\n",
       "7    23\n",
       "dtype: int64"
      ]
     },
     "execution_count": 3,
     "metadata": {},
     "output_type": "execute_result"
    }
   ],
   "source": [
    "pd.Series(nums)"
   ]
  },
  {
   "cell_type": "code",
   "execution_count": 4,
   "id": "fec84881-ca97-479b-ae5d-95cb9787af98",
   "metadata": {},
   "outputs": [],
   "source": [
    "nums1=[3,5,6,13,7,9.7,10,23]"
   ]
  },
  {
   "cell_type": "code",
   "execution_count": 5,
   "id": "f81003d2-079e-41bb-996e-e4c8b4e4c8ad",
   "metadata": {},
   "outputs": [
    {
     "data": {
      "text/plain": [
       "0     3\n",
       "1     5\n",
       "2     6\n",
       "3    13\n",
       "4     7\n",
       "5     9\n",
       "6    10\n",
       "7    23\n",
       "dtype: int64"
      ]
     },
     "execution_count": 5,
     "metadata": {},
     "output_type": "execute_result"
    }
   ],
   "source": [
    "num_ser=pd.Series(nums)\n",
    "num_ser"
   ]
  },
  {
   "cell_type": "code",
   "execution_count": 6,
   "id": "dc9981af-2548-47fd-aea4-ec9a9c3b1ea7",
   "metadata": {},
   "outputs": [
    {
     "data": {
      "text/plain": [
       "pandas.core.series.Series"
      ]
     },
     "execution_count": 6,
     "metadata": {},
     "output_type": "execute_result"
    }
   ],
   "source": [
    "type(num_ser)"
   ]
  },
  {
   "cell_type": "code",
   "execution_count": 7,
   "id": "95777cfd-a5bd-4307-9720-b0518b2b793f",
   "metadata": {},
   "outputs": [
    {
     "name": "stdout",
     "output_type": "stream",
     "text": [
      " Max Number -- 23\n"
     ]
    }
   ],
   "source": [
    "print(\" Max Number --\",num_ser.max())"
   ]
  },
  {
   "cell_type": "code",
   "execution_count": 8,
   "id": "1f1da0bb-7a37-4169-91c6-a38f811876ee",
   "metadata": {},
   "outputs": [
    {
     "name": "stdout",
     "output_type": "stream",
     "text": [
      " Min Number -- 3\n"
     ]
    }
   ],
   "source": [
    "print(\" Min Number --\",num_ser.min())"
   ]
  },
  {
   "cell_type": "code",
   "execution_count": 9,
   "id": "be479ba9-521e-4df4-b6cb-abde61bf762a",
   "metadata": {},
   "outputs": [
    {
     "name": "stdout",
     "output_type": "stream",
     "text": [
      " Average Number -- 9.5\n"
     ]
    }
   ],
   "source": [
    "print(\" Average Number --\",num_ser.mean())"
   ]
  },
  {
   "cell_type": "code",
   "execution_count": 10,
   "id": "65111377-7b10-4f74-8ec9-10838fe30848",
   "metadata": {},
   "outputs": [
    {
     "name": "stdout",
     "output_type": "stream",
     "text": [
      " Standard deviation Number -- 6.279217421667403\n"
     ]
    }
   ],
   "source": [
    "print(\" Standard deviation Number --\",num_ser.std())"
   ]
  },
  {
   "cell_type": "code",
   "execution_count": 11,
   "id": "c6a51a68-ef60-4bd9-9ce0-fb4333d4d60c",
   "metadata": {},
   "outputs": [
    {
     "name": "stdout",
     "output_type": "stream",
     "text": [
      " Median Number -- 8.0\n"
     ]
    }
   ],
   "source": [
    "print(\" Median Number --\",num_ser.median())"
   ]
  },
  {
   "cell_type": "code",
   "execution_count": 12,
   "id": "9dc22acc-03fc-4cf5-8dfb-c9f7a44e5868",
   "metadata": {},
   "outputs": [
    {
     "ename": "SyntaxError",
     "evalue": "closing parenthesis '}' does not match opening parenthesis '(' (1765521707.py, line 1)",
     "output_type": "error",
     "traceback": [
      "\u001b[0;36m  Cell \u001b[0;32mIn[12], line 1\u001b[0;36m\u001b[0m\n\u001b[0;31m    print(\" Nums values --\",num_ser.values})\u001b[0m\n\u001b[0m                                          ^\u001b[0m\n\u001b[0;31mSyntaxError\u001b[0m\u001b[0;31m:\u001b[0m closing parenthesis '}' does not match opening parenthesis '('\n"
     ]
    }
   ],
   "source": [
    "print(\" Nums values --\",num_ser.values})"
   ]
  },
  {
   "cell_type": "code",
   "execution_count": null,
   "id": "f72c36f7-876d-4757-bdc5-4b0bd3f8fb80",
   "metadata": {},
   "outputs": [],
   "source": [
    "s1=pd.Series([1,2],index=['a','b'], name='s1')\n",
    "s2=pd.Series([3,4],index=['a','b'], name='s2')"
   ]
  },
  {
   "cell_type": "code",
   "execution_count": null,
   "id": "f1a8fe04-1207-4f30-bdec-af673a579dac",
   "metadata": {},
   "outputs": [],
   "source": [
    "s1"
   ]
  },
  {
   "cell_type": "code",
   "execution_count": null,
   "id": "fa650d32-f168-457e-bf46-9fa782270a3b",
   "metadata": {},
   "outputs": [],
   "source": [
    "s2"
   ]
  },
  {
   "cell_type": "code",
   "execution_count": null,
   "id": "dd06d8d1-9c49-4808-8231-af659f685c56",
   "metadata": {},
   "outputs": [],
   "source": []
  },
  {
   "cell_type": "code",
   "execution_count": null,
   "id": "daf9c413-1591-468f-809b-64bd166f1909",
   "metadata": {},
   "outputs": [],
   "source": [
    "df"
   ]
  },
  {
   "cell_type": "code",
   "execution_count": null,
   "id": "2ba9d330-8f6b-44bb-b241-3c7170726eb3",
   "metadata": {},
   "outputs": [],
   "source": []
  },
  {
   "cell_type": "code",
   "execution_count": null,
   "id": "e5ddf0aa-d62a-4b0f-870c-1baa99a0c946",
   "metadata": {},
   "outputs": [],
   "source": [
    "# data loading"
   ]
  },
  {
   "cell_type": "code",
   "execution_count": null,
   "id": "16e11663-4704-4876-906f-7553182a6332",
   "metadata": {},
   "outputs": [],
   "source": [
    "df=pd.read_csv(\"telecom_churn.csv\")"
   ]
  },
  {
   "cell_type": "code",
   "execution_count": null,
   "id": "6263aac3-1dab-4049-a718-c80a2e4c566d",
   "metadata": {},
   "outputs": [],
   "source": [
    "#df.head() : display n rows from the data\n",
    "df.head()"
   ]
  },
  {
   "cell_type": "code",
   "execution_count": null,
   "id": "70b36e08-f9cb-4a5c-af7d-6d31bce87223",
   "metadata": {},
   "outputs": [],
   "source": [
    "#.tail() :display  last 5 rows from the data\n",
    "#.tails(): didplay the \n",
    "df.tail()"
   ]
  },
  {
   "cell_type": "code",
   "execution_count": null,
   "id": "c05535e3-18b0-4150-89df-a2626ca4f640",
   "metadata": {},
   "outputs": [],
   "source": [
    "#.shape : number of rows and columns \n",
    "df.shape"
   ]
  },
  {
   "cell_type": "code",
   "execution_count": null,
   "id": "a0a8f2af-a025-492d-80ec-b03a7db5aaaf",
   "metadata": {},
   "outputs": [],
   "source": [
    "#.size : number of data pont present in  data \n",
    "df.size"
   ]
  },
  {
   "cell_type": "code",
   "execution_count": null,
   "id": "67291ecc-17ca-422a-b27e-58b696b3c822",
   "metadata": {},
   "outputs": [],
   "source": [
    "df.columns"
   ]
  },
  {
   "cell_type": "code",
   "execution_count": null,
   "id": "0d0e3738-7da0-4e3d-a170-ca57263eb4e0",
   "metadata": {},
   "outputs": [],
   "source": [
    "df.columns.to_list()"
   ]
  },
  {
   "cell_type": "code",
   "execution_count": null,
   "id": "484e7c04-25ce-4310-ac19-daa9e03a988f",
   "metadata": {},
   "outputs": [],
   "source": [
    "df.tail(5)"
   ]
  },
  {
   "cell_type": "code",
   "execution_count": null,
   "id": "e4c1a5e2-8e59-4819-9432-7adc8cecd330",
   "metadata": {},
   "outputs": [],
   "source": [
    "df.columns"
   ]
  },
  {
   "cell_type": "code",
   "execution_count": null,
   "id": "5a818d9d-e412-451a-81df-0d7e77ad9fda",
   "metadata": {},
   "outputs": [],
   "source": [
    "df.info()"
   ]
  },
  {
   "cell_type": "code",
   "execution_count": null,
   "id": "3a7f3de9-fc7f-4d0d-beb3-d36249aead45",
   "metadata": {},
   "outputs": [],
   "source": [
    "df.isnull().sum()"
   ]
  },
  {
   "cell_type": "code",
   "execution_count": null,
   "id": "8ac16356-bccb-4653-80ad-e30870a7cdc9",
   "metadata": {},
   "outputs": [],
   "source": [
    " df.describe()"
   ]
  },
  {
   "cell_type": "code",
   "execution_count": null,
   "id": "c531b64e-3652-4395-ba62-6a4fd16be2bf",
   "metadata": {},
   "outputs": [],
   "source": [
    "df['Number vmail messages']"
   ]
  },
  {
   "cell_type": "code",
   "execution_count": null,
   "id": "634ddc9f-15ea-457f-b74c-c5347af425e7",
   "metadata": {},
   "outputs": [],
   "source": [
    "df.State"
   ]
  },
  {
   "cell_type": "code",
   "execution_count": null,
   "id": "e7c5d1f0-246a-4eb8-aea5-c02ec74a14f8",
   "metadata": {},
   "outputs": [],
   "source": [
    "df[['Number vmail messages','Account length','State', 'Area code']]"
   ]
  },
  {
   "cell_type": "code",
   "execution_count": null,
   "id": "8bd3c3cf-8b00-4454-86ac-1eb540849047",
   "metadata": {},
   "outputs": [],
   "source": [
    "df.all"
   ]
  },
  {
   "cell_type": "code",
   "execution_count": null,
   "id": "dd96b396-7f61-4874-ad9d-45943f7dc869",
   "metadata": {},
   "outputs": [],
   "source": [
    "df.describe(include ='O')"
   ]
  },
  {
   "cell_type": "code",
   "execution_count": 1,
   "id": "5be28a9b-0740-4439-8567-1b3db9a7f841",
   "metadata": {},
   "outputs": [],
   "source": [
    "def add_values(num_1, num_2):\n",
    "    num_1, num_2 = int(num_1), int(num_2)\n",
    "    print('The sum of numbers are {}'.format(num_1 + num_2))\n",
    "\n",
    "def multiply_values(num_1, num_2):\n",
    "        num_1, num_2 = int(num_1), int(num_2)\n",
    "        print('The sum of numbers are {}'.format(num_1 * num_2))\n",
    "    "
   ]
  },
  {
   "cell_type": "code",
   "execution_count": 2,
   "id": "6039c13f-7a87-4c93-9cc9-58845c7a44f6",
   "metadata": {},
   "outputs": [
    {
     "name": "stdout",
     "output_type": "stream",
     "text": [
      "The sum of numbers are 30\n",
      "The sum of numbers are 200\n"
     ]
    }
   ],
   "source": [
    "add_values(10,20)\n",
    "multiply_values(10,20)"
   ]
  },
  {
   "cell_type": "code",
   "execution_count": 3,
   "id": "5b1b54c6-6dbe-4036-a78e-90ac58d46df7",
   "metadata": {},
   "outputs": [
    {
     "name": "stderr",
     "output_type": "stream",
     "text": [
      "WARNING:root:This is a warning message\n",
      "ERROR:root:This is an error message\n",
      "CRITICAL:root:This is a critical message\n"
     ]
    }
   ],
   "source": [
    "import logging\n",
    "\n",
    "logging.debug('This is a debug message')\n",
    "logging.info('This is an info message')\n",
    "logging.warning('This is a warning message')\n",
    "logging.error('This is an error message')\n",
    "logging.critical('This is a critical message')"
   ]
  },
  {
   "cell_type": "code",
   "execution_count": 4,
   "id": "5b7d3760-9613-4c15-8c52-8bd8942c487f",
   "metadata": {},
   "outputs": [
    {
     "name": "stderr",
     "output_type": "stream",
     "text": [
      "ERROR:upGrad:Error Occurred\n"
     ]
    }
   ],
   "source": [
    "import logging\n",
    "\n",
    "logging.basicConfig(format='%(asctime)s- %(name)s - %(message)s')\n",
    "logger = logging.getLogger('upGrad')\n",
    "logger.setLevel(logging.INFO)\n",
    "\n",
    "def divide(val_1, val_2):\n",
    "    try:\n",
    "        result = val_1 / val_2 \n",
    "    except TypeError:\n",
    "        logger.error('Error Occurred')\n",
    "    else:\n",
    "        print('Code executed successfully')\n",
    "\n",
    "result = divide(10, 'Steve')"
   ]
  },
  {
   "cell_type": "code",
   "execution_count": 1,
   "id": "f951bd33-00dc-4ad2-b5c0-c2c823631d0c",
   "metadata": {},
   "outputs": [
    {
     "data": {
      "text/plain": [
       "1"
      ]
     },
     "execution_count": 1,
     "metadata": {},
     "output_type": "execute_result"
    }
   ],
   "source": [
    " ((500//7) % 5) ** 3"
   ]
  },
  {
   "cell_type": "code",
   "execution_count": 10,
   "id": "44db0d0d-77c4-4555-abd8-510dc21e8afd",
   "metadata": {},
   "outputs": [
    {
     "data": {
      "text/plain": [
       "'love'"
      ]
     },
     "execution_count": 10,
     "metadata": {},
     "output_type": "execute_result"
    }
   ],
   "source": [
    "S =\"I love Python\"\n",
    "\n",
    "S[2:6]\n",
    "S[-11:-7]"
   ]
  },
  {
   "cell_type": "code",
   "execution_count": 13,
   "id": "1639ae85-778c-4b3c-8a30-b2d7d610f638",
   "metadata": {},
   "outputs": [
    {
     "data": {
      "text/plain": [
       "[1, 2, 3, 1, 2, 3]"
      ]
     },
     "execution_count": 13,
     "metadata": {},
     "output_type": "execute_result"
    }
   ],
   "source": [
    "L = [1, 2, 3]\n",
    "L*2"
   ]
  },
  {
   "cell_type": "code",
   "execution_count": 14,
   "id": "59544eda-28ff-45c6-a3f0-39c752a573bb",
   "metadata": {},
   "outputs": [
    {
     "data": {
      "text/plain": [
       "[[7, 8, 9, 10]]"
      ]
     },
     "execution_count": 14,
     "metadata": {},
     "output_type": "execute_result"
    }
   ],
   "source": [
    "L = [[1, 2, 3], [4, 5, 6], [7, 8, 9, 10]]\n",
    "L[2:]"
   ]
  },
  {
   "cell_type": "code",
   "execution_count": 15,
   "id": "a71c1f6b-ced3-4412-9780-1c43ce923529",
   "metadata": {},
   "outputs": [
    {
     "name": "stdout",
     "output_type": "stream",
     "text": [
      "1\n",
      "2\n",
      "3\n"
     ]
    }
   ],
   "source": [
    "D = {1:['Raj', 22], 2:['Simran', 21], 3:['Rahul', 40]}\n",
    "for val in D:\n",
    "     print(val)"
   ]
  },
  {
   "cell_type": "code",
   "execution_count": 16,
   "id": "fb2e7f2f-eb31-41ae-9a64-b0ced3dcf345",
   "metadata": {},
   "outputs": [
    {
     "name": "stdout",
     "output_type": "stream",
     "text": [
      "15\n",
      "21\n"
     ]
    }
   ],
   "source": [
    "def my_func(*args):\n",
    "    return(sum(args))\n",
    "\n",
    "print(my_func(1,2,3,4,5))\n",
    "print(my_func(6,7,8))"
   ]
  },
  {
   "cell_type": "code",
   "execution_count": null,
   "id": "87390f68-7a6b-46e8-9035-1cbdb1f837fe",
   "metadata": {},
   "outputs": [],
   "source": []
  }
 ],
 "metadata": {
  "kernelspec": {
   "display_name": "Python 3 (ipykernel)",
   "language": "python",
   "name": "python3"
  },
  "language_info": {
   "codemirror_mode": {
    "name": "ipython",
    "version": 3
   },
   "file_extension": ".py",
   "mimetype": "text/x-python",
   "name": "python",
   "nbconvert_exporter": "python",
   "pygments_lexer": "ipython3",
   "version": "3.10.0"
  }
 },
 "nbformat": 4,
 "nbformat_minor": 5
}
