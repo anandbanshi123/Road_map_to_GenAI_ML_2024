{
 "cells": [
  {
   "cell_type": "code",
   "execution_count": 19,
   "id": "4787f35c-d2a5-424a-873c-7615d64ec338",
   "metadata": {},
   "outputs": [
    {
     "data": {
      "text/plain": [
       "['python', 'R']"
      ]
     },
     "execution_count": 19,
     "metadata": {},
     "output_type": "execute_result"
    }
   ],
   "source": [
    "course=['python','R','Java','get']\n",
    "course[0:2]"
   ]
  },
  {
   "cell_type": "code",
   "execution_count": 3,
   "id": "709478d9-fae1-453a-b17a-14b0f8058c4f",
   "metadata": {},
   "outputs": [
    {
     "data": {
      "text/plain": [
       "['python', 'Java']"
      ]
     },
     "execution_count": 3,
     "metadata": {},
     "output_type": "execute_result"
    }
   ],
   "source": [
    "course[0:3:2]"
   ]
  },
  {
   "cell_type": "code",
   "execution_count": 4,
   "id": "690807af-50e5-4ae3-b526-52bbed469958",
   "metadata": {},
   "outputs": [
    {
     "data": {
      "text/plain": [
       "'R'"
      ]
     },
     "execution_count": 4,
     "metadata": {},
     "output_type": "execute_result"
    }
   ],
   "source": [
    "course[--1]"
   ]
  },
  {
   "cell_type": "code",
   "execution_count": 25,
   "id": "db3f65e5-0295-4cb7-a2a9-8f481d79b5bf",
   "metadata": {},
   "outputs": [
    {
     "data": {
      "text/plain": [
       "['python', 'get', 'R', 'Java', 'matlab']"
      ]
     },
     "execution_count": 25,
     "metadata": {},
     "output_type": "execute_result"
    }
   ],
   "source": [
    "course.append('matlab')\n",
    "course"
   ]
  },
  {
   "cell_type": "code",
   "execution_count": 15,
   "id": "5310c5c5-b074-4e9e-83fc-c5ee30f648a8",
   "metadata": {},
   "outputs": [
    {
     "data": {
      "text/plain": [
       "['python', 'get', 'Java', 'matlab']"
      ]
     },
     "execution_count": 15,
     "metadata": {},
     "output_type": "execute_result"
    }
   ],
   "source": [
    "course.remove('metlab')\n",
    "course"
   ]
  },
  {
   "cell_type": "code",
   "execution_count": 21,
   "id": "a097b34c-0262-4a9a-bb44-3af7e4064fb6",
   "metadata": {},
   "outputs": [],
   "source": [
    "course.reverse()"
   ]
  },
  {
   "cell_type": "code",
   "execution_count": 22,
   "id": "3f43abef-2cce-49fa-bcbb-72de59161b85",
   "metadata": {},
   "outputs": [],
   "source": [
    "course.sort()"
   ]
  },
  {
   "cell_type": "code",
   "execution_count": 23,
   "id": "052acd7d-20f5-4f44-b1a2-9cce577c6929",
   "metadata": {},
   "outputs": [],
   "source": [
    "course.reverse()"
   ]
  },
  {
   "cell_type": "code",
   "execution_count": 24,
   "id": "57bad3c9-f224-4392-84e3-4f25a4d6b9e5",
   "metadata": {},
   "outputs": [
    {
     "data": {
      "text/plain": [
       "['python', 'get', 'R', 'Java']"
      ]
     },
     "execution_count": 24,
     "metadata": {},
     "output_type": "execute_result"
    }
   ],
   "source": [
    "course"
   ]
  },
  {
   "cell_type": "code",
   "execution_count": 26,
   "id": "2091505f-662b-4691-8724-b34d91eab60b",
   "metadata": {},
   "outputs": [
    {
     "ename": "SyntaxError",
     "evalue": "'[' was never closed (1740414903.py, line 2)",
     "output_type": "error",
     "traceback": [
      "\u001b[0;36m  Cell \u001b[0;32mIn[26], line 2\u001b[0;36m\u001b[0m\n\u001b[0;31m    berries=['cherry',\u001b[0m\n\u001b[0m            ^\u001b[0m\n\u001b[0;31mSyntaxError\u001b[0m\u001b[0;31m:\u001b[0m '[' was never closed\n"
     ]
    }
   ],
   "source": [
    "Fruits=['apples','orange','orange','mango']\n",
    "berries=['cherry',"
   ]
  },
  {
   "cell_type": "code",
   "execution_count": 33,
   "id": "c56ce816-38cd-45b9-b073-6b7e5448cb51",
   "metadata": {},
   "outputs": [
    {
     "name": "stdin",
     "output_type": "stream",
     "text": [
      " 3 4 5\n"
     ]
    },
    {
     "name": "stdout",
     "output_type": "stream",
     "text": [
      "7\n",
      "Valid\n"
     ]
    }
   ],
   "source": [
    "a,b,c= input().split()\n",
    "\n",
    "# Write your code here\n",
    "z=int(a)+int(b)\n",
    "print(z)\n",
    "if  z > int(c):\n",
    "    print('Valid')\n",
    "else:\n",
    "    print('Invalid')"
   ]
  },
  {
   "cell_type": "code",
   "execution_count": 1,
   "id": "807377a2-4ee8-410a-9975-0cd656b8a220",
   "metadata": {},
   "outputs": [],
   "source": [
    "import numpy as np"
   ]
  },
  {
   "cell_type": "code",
   "execution_count": 2,
   "id": "90283c52-dbb2-421d-bc2b-dcc9d3917cb7",
   "metadata": {},
   "outputs": [],
   "source": [
    "array1 = np.array([10,20,30,40,50])\n",
    "array2 = np.arange(5)"
   ]
  },
  {
   "cell_type": "code",
   "execution_count": 3,
   "id": "29eb4cb8-0573-4a89-8574-5900bf5c43fa",
   "metadata": {},
   "outputs": [
    {
     "data": {
      "text/plain": [
       "array([10, 21, 32, 43, 54])"
      ]
     },
     "execution_count": 3,
     "metadata": {},
     "output_type": "execute_result"
    }
   ],
   "source": [
    "array3 = array1 + array2\n",
    "array3 "
   ]
  },
  {
   "cell_type": "code",
   "execution_count": 5,
   "id": "374749ef-6f70-4913-bf48-f6043ccc0354",
   "metadata": {},
   "outputs": [
    {
     "data": {
      "text/plain": [
       "array([1, 2, 3, 4])"
      ]
     },
     "execution_count": 5,
     "metadata": {},
     "output_type": "execute_result"
    }
   ],
   "source": [
    "array4 = np.array([1,2,3,4])\n",
    "array4"
   ]
  },
  {
   "cell_type": "code",
   "execution_count": 6,
   "id": "93d21423-4e2d-4796-aed8-160854082e6e",
   "metadata": {},
   "outputs": [
    {
     "name": "stdout",
     "output_type": "stream",
     "text": [
      "(5,)\n",
      "(4,)\n"
     ]
    }
   ],
   "source": [
    "print (array1.shape)\n",
    "print (array4.shape)"
   ]
  },
  {
   "cell_type": "code",
   "execution_count": 7,
   "id": "4fa98605-e92d-4844-a446-3f66ed7e775f",
   "metadata": {},
   "outputs": [
    {
     "data": {
      "text/plain": [
       "array([ 1.  ,  3.25,  5.5 ,  7.75, 10.  ])"
      ]
     },
     "execution_count": 7,
     "metadata": {},
     "output_type": "execute_result"
    }
   ],
   "source": [
    "array = np.linspace(1, 10, 5)\n",
    "array"
   ]
  },
  {
   "cell_type": "code",
   "execution_count": 8,
   "id": "b8243697-dffe-4aef-94c6-ee5c078fcefa",
   "metadata": {},
   "outputs": [
    {
     "data": {
      "text/plain": [
       "array([1, 2, 3, 2, 3, 4])"
      ]
     },
     "execution_count": 8,
     "metadata": {},
     "output_type": "execute_result"
    }
   ],
   "source": [
    "# Note that np.hstack(a, b) throws an error - you need to pass the arrays as a list\n",
    "a = np.array([1, 2, 3])\n",
    "b = np.array([2, 3, 4])\n",
    "\n",
    "np.hstack((a,b))"
   ]
  },
  {
   "cell_type": "code",
   "execution_count": 9,
   "id": "e1416cc0-2c4c-4cd8-b529-a784b0b4851c",
   "metadata": {},
   "outputs": [],
   "source": [
    "p=np.array([[1, 5],\n",
    " [3, 7],\n",
    " [4, 9]])"
   ]
  },
  {
   "cell_type": "code",
   "execution_count": 10,
   "id": "2fd37740-def7-4d3b-a63d-68705e12b260",
   "metadata": {},
   "outputs": [
    {
     "data": {
      "text/plain": [
       "array([1, 5, 3, 7, 4, 9])"
      ]
     },
     "execution_count": 10,
     "metadata": {},
     "output_type": "execute_result"
    }
   ],
   "source": [
    "np.reshape(p, -1)\n"
   ]
  },
  {
   "cell_type": "code",
   "execution_count": 19,
   "id": "75c1455e-7f43-4ece-88b2-f302ea9a0961",
   "metadata": {},
   "outputs": [
    {
     "ename": "IndexError",
     "evalue": "boolean index did not match indexed array along dimension 0; dimension is 5 but corresponding boolean dimension is 4",
     "output_type": "error",
     "traceback": [
      "\u001b[0;31m---------------------------------------------------------------------------\u001b[0m",
      "\u001b[0;31mIndexError\u001b[0m                                Traceback (most recent call last)",
      "Cell \u001b[0;32mIn[19], line 2\u001b[0m\n\u001b[1;32m      1\u001b[0m array_1\u001b[38;5;241m=\u001b[39mnp\u001b[38;5;241m.\u001b[39marray([[\u001b[38;5;241m1\u001b[39m, \u001b[38;5;241m2\u001b[39m, \u001b[38;5;241m3\u001b[39m, \u001b[38;5;241m4\u001b[39m, \u001b[38;5;241m5\u001b[39m],[\u001b[38;5;241m6\u001b[39m, \u001b[38;5;241m7\u001b[39m, \u001b[38;5;241m8\u001b[39m, \u001b[38;5;241m9\u001b[39m, \u001b[38;5;241m10\u001b[39m],[\u001b[38;5;241m11\u001b[39m, \u001b[38;5;241m12\u001b[39m, \u001b[38;5;241m13\u001b[39m, \u001b[38;5;241m14\u001b[39m, \u001b[38;5;241m15\u001b[39m],[\u001b[38;5;241m16\u001b[39m, \u001b[38;5;241m17\u001b[39m, \u001b[38;5;241m18\u001b[39m, \u001b[38;5;241m19\u001b[39m, \u001b[38;5;241m20\u001b[39m]])\n\u001b[0;32m----> 2\u001b[0m \u001b[38;5;28mprint\u001b[39m(\u001b[43marray_1\u001b[49m\u001b[38;5;241;43m.\u001b[39;49m\u001b[43mreshape\u001b[49m\u001b[43m(\u001b[49m\u001b[38;5;241;43m5\u001b[39;49m\u001b[43m,\u001b[49m\u001b[43m \u001b[49m\u001b[38;5;241;43m4\u001b[39;49m\u001b[43m)\u001b[49m\u001b[43m[\u001b[49m\u001b[43marray_1\u001b[49m\u001b[38;5;241;43m%\u001b[39;49m\u001b[38;5;241;43m2\u001b[39;49m\u001b[43m \u001b[49m\u001b[38;5;241;43m!=\u001b[39;49m\u001b[43m \u001b[49m\u001b[38;5;241;43m0\u001b[39;49m\u001b[43m]\u001b[49m)\n",
      "\u001b[0;31mIndexError\u001b[0m: boolean index did not match indexed array along dimension 0; dimension is 5 but corresponding boolean dimension is 4"
     ]
    }
   ],
   "source": [
    "array_1=np.array([[1, 2, 3, 4, 5],[6, 7, 8, 9, 10],[11, 12, 13, 14, 15],[16, 17, 18, 19, 20]])\n",
    "print(array_1.reshape(5, 4)[array_1%2 != 0])\n"
   ]
  },
  {
   "cell_type": "code",
   "execution_count": 20,
   "id": "b39c29d6-2d95-469d-8a8f-ceb1dc32c1dd",
   "metadata": {},
   "outputs": [
    {
     "name": "stdout",
     "output_type": "stream",
     "text": [
      "[ 1  3  5  7  9 11 13 15 17 19]\n"
     ]
    }
   ],
   "source": [
    "print(array_1[array_1%2 != 0])"
   ]
  },
  {
   "cell_type": "code",
   "execution_count": 21,
   "id": "4aef1246-2c94-457b-8aa5-be4cd60a84dd",
   "metadata": {},
   "outputs": [
    {
     "name": "stdout",
     "output_type": "stream",
     "text": [
      "[[ 2  4]\n",
      " [ 6  8]\n",
      " [10 12]\n",
      " [14 16]\n",
      " [18 20]]\n"
     ]
    }
   ],
   "source": [
    "print(array_1[array_1%2 == 0].reshape(5, 2))"
   ]
  },
  {
   "cell_type": "code",
   "execution_count": 22,
   "id": "a575241c-bb2f-45a4-831e-1398124cc5ba",
   "metadata": {},
   "outputs": [
    {
     "name": "stdout",
     "output_type": "stream",
     "text": [
      "[[ 1  3]\n",
      " [ 5  7]\n",
      " [ 9 11]\n",
      " [13 15]\n",
      " [17 19]]\n"
     ]
    }
   ],
   "source": [
    "print(array_1[array_1%2 != 0].reshape(5, 2))\n"
   ]
  },
  {
   "cell_type": "code",
   "execution_count": 23,
   "id": "f9dec478-b546-43f1-8024-a02416641b1b",
   "metadata": {},
   "outputs": [],
   "source": [
    "a=np.array([[1, 5],\n",
    " [3, 7],\n",
    " [4, 9]])"
   ]
  },
  {
   "cell_type": "code",
   "execution_count": 24,
   "id": "2d44061c-3050-4ee0-b4f1-2666773e0cf1",
   "metadata": {},
   "outputs": [
    {
     "data": {
      "text/plain": [
       "array([[1, 5, 3, 7, 4, 9]])"
      ]
     },
     "execution_count": 24,
     "metadata": {},
     "output_type": "execute_result"
    }
   ],
   "source": [
    "np.reshape(p, (1, -1))\n"
   ]
  },
  {
   "cell_type": "code",
   "execution_count": null,
   "id": "533204d0-1ba9-4e89-984a-8065ed3ec33d",
   "metadata": {},
   "outputs": [],
   "source": []
  }
 ],
 "metadata": {
  "kernelspec": {
   "display_name": "Python 3 (ipykernel)",
   "language": "python",
   "name": "python3"
  },
  "language_info": {
   "codemirror_mode": {
    "name": "ipython",
    "version": 3
   },
   "file_extension": ".py",
   "mimetype": "text/x-python",
   "name": "python",
   "nbconvert_exporter": "python",
   "pygments_lexer": "ipython3",
   "version": "3.10.0"
  }
 },
 "nbformat": 4,
 "nbformat_minor": 5
}
