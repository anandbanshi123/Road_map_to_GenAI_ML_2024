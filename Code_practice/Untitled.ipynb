{
 "cells": [
  {
   "cell_type": "code",
   "execution_count": 1,
   "id": "2d33341a-3a2d-4908-8c8a-6ca1d726d0fd",
   "metadata": {},
   "outputs": [
    {
     "name": "stdout",
     "output_type": "stream",
     "text": [
      "[('I', 1), ('LOVE', 4), ('PYTHON', 6)]\n"
     ]
    }
   ],
   "source": [
    "input_string = \"I love Python\"\n",
    "k = [(i.upper(), len(i)) for i in input_string.split(' ')]\n",
    "print(k)"
   ]
  },
  {
   "cell_type": "code",
   "execution_count": 2,
   "id": "ec078c18-9d41-4a67-9262-381f1ed2015a",
   "metadata": {},
   "outputs": [
    {
     "name": "stdout",
     "output_type": "stream",
     "text": [
      "[0, 1, 4, 9, 16]\n"
     ]
    }
   ],
   "source": [
    "var = [i**2 for i in range(5)]\n",
    "print(var)"
   ]
  },
  {
   "cell_type": "code",
   "execution_count": 3,
   "id": "9a73df4a-7cbf-4f31-a071-9735979d6328",
   "metadata": {},
   "outputs": [
    {
     "data": {
      "text/plain": [
       "[5, 6, 7, 10, 6, 7, 8, 11, 7, 8, 9, 12, 11, 12, 13, 16]"
      ]
     },
     "execution_count": 3,
     "metadata": {},
     "output_type": "execute_result"
    }
   ],
   "source": [
    "l1=[1,2,3,7]\n",
    "l2=[4,5,6,9]\n",
    "[x+y for x in l1 for y in l2]"
   ]
  },
  {
   "cell_type": "code",
   "execution_count": 4,
   "id": "312c3e73-ad89-4118-bfff-53afa136260f",
   "metadata": {},
   "outputs": [
    {
     "name": "stdout",
     "output_type": "stream",
     "text": [
      "0\n"
     ]
    }
   ],
   "source": [
    "f=lambda x:bool(x%2)\n",
    "print(f(100)* f(101))"
   ]
  },
  {
   "cell_type": "code",
   "execution_count": 5,
   "id": "f00de96d-bbda-4ff8-8cb5-aea8b577ec4c",
   "metadata": {},
   "outputs": [
    {
     "name": "stdout",
     "output_type": "stream",
     "text": [
      "[0, -1, -2, 2, 2]\n"
     ]
    }
   ],
   "source": [
    "l=(1, -2, -3, 4, 5)\n",
    "def f1(x):\n",
    "    return x//2\n",
    "m1=map(f1, l)\n",
    "print(list(m1))"
   ]
  },
  {
   "cell_type": "code",
   "execution_count": 6,
   "id": "4ced0137-de7c-4e69-a1af-fc6889e1629a",
   "metadata": {},
   "outputs": [
    {
     "name": "stdout",
     "output_type": "stream",
     "text": [
      "<map object at 0x1076ef8e0>\n"
     ]
    }
   ],
   "source": [
    "sample=[-4,2,5,-3]\n",
    "ans=map(lambda x: x*2, sample)\n",
    "print(ans)"
   ]
  },
  {
   "cell_type": "code",
   "execution_count": 8,
   "id": "ee504a3e-963b-4b31-a5e2-4c42440cc8ae",
   "metadata": {},
   "outputs": [
    {
     "ename": "TypeError",
     "evalue": "'int' object is not iterable",
     "output_type": "error",
     "traceback": [
      "\u001b[0;31m---------------------------------------------------------------------------\u001b[0m",
      "\u001b[0;31mTypeError\u001b[0m                                 Traceback (most recent call last)",
      "Cell \u001b[0;32mIn[8], line 2\u001b[0m\n\u001b[1;32m      1\u001b[0m \u001b[38;5;28;01mfrom\u001b[39;00m \u001b[38;5;21;01mfunctools\u001b[39;00m \u001b[38;5;28;01mimport\u001b[39;00m reduce\n\u001b[0;32m----> 2\u001b[0m \u001b[38;5;28mprint\u001b[39m(\u001b[38;5;28;43mlist\u001b[39;49m\u001b[43m(\u001b[49m\u001b[43mreduce\u001b[49m\u001b[43m(\u001b[49m\u001b[38;5;28;43;01mlambda\u001b[39;49;00m\u001b[43m \u001b[49m\u001b[43mx\u001b[49m\u001b[43m,\u001b[49m\u001b[43my\u001b[49m\u001b[43m:\u001b[49m\u001b[43mx\u001b[49m\u001b[38;5;241;43m+\u001b[39;49m\u001b[43my\u001b[49m\u001b[43m,\u001b[49m\u001b[38;5;28;43mrange\u001b[39;49m\u001b[43m(\u001b[49m\u001b[38;5;241;43m5\u001b[39;49m\u001b[43m,\u001b[49m\u001b[38;5;241;43m15\u001b[39;49m\u001b[43m)\u001b[49m\u001b[43m)\u001b[49m\u001b[43m)\u001b[49m)\n",
      "\u001b[0;31mTypeError\u001b[0m: 'int' object is not iterable"
     ]
    }
   ],
   "source": [
    "from functools import reduce\n",
    "print(list(reduce(lambda x,y:x+y,range(5,15))))"
   ]
  },
  {
   "cell_type": "code",
   "execution_count": 9,
   "id": "6de8d7da-e5d7-4102-990e-aec08a192311",
   "metadata": {},
   "outputs": [
    {
     "name": "stdout",
     "output_type": "stream",
     "text": [
      "1\n"
     ]
    }
   ],
   "source": [
    "lis=[1, 2, 3, 4, 5]\n",
    "c=lis[0]\n",
    "for i in range(len(lis)-1):\n",
    "    if lis[i]<c:\n",
    "       c=lis[i]\n",
    "print(c)"
   ]
  },
  {
   "cell_type": "code",
   "execution_count": 10,
   "id": "a6c170f5-67e4-46ce-90a3-9114109c4917",
   "metadata": {},
   "outputs": [
    {
     "name": "stdout",
     "output_type": "stream",
     "text": [
      "1\n"
     ]
    }
   ],
   "source": [
    "import functools\n",
    "lis=[1, 2, 3, 4, 5]\n",
    "m=functools.reduce(lambda x, y:x if x<y else y, lis)\n",
    "print(m)"
   ]
  },
  {
   "cell_type": "code",
   "execution_count": 11,
   "id": "208e89e5-2d26-4815-a420-c2076c895780",
   "metadata": {},
   "outputs": [
    {
     "name": "stdout",
     "output_type": "stream",
     "text": [
      "['dx', 'ix', 'ax', 'sx']\n"
     ]
    }
   ],
   "source": [
    "letters = ('d','i','a','s')\n",
    "ans = list(map(lambda word: f\"{word}x\", letters))\n",
    "print(ans)"
   ]
  },
  {
   "cell_type": "code",
   "execution_count": 12,
   "id": "d2b6c600-ff3b-4c63-9be8-1c83d259f1ee",
   "metadata": {},
   "outputs": [
    {
     "name": "stdout",
     "output_type": "stream",
     "text": [
      "[12, 20, 28]\n"
     ]
    }
   ],
   "source": [
    "def sf(a):\n",
    "    return a%4==0 and a%8!=0\n",
    "m=filter(sf, range(10, 31))\n",
    "print(list(m))"
   ]
  },
  {
   "cell_type": "code",
   "execution_count": 13,
   "id": "096f915b-79e5-41d1-a204-0e3a1724733a",
   "metadata": {},
   "outputs": [
    {
     "ename": "NameError",
     "evalue": "name 'sys' is not defined",
     "output_type": "error",
     "traceback": [
      "\u001b[0;31m---------------------------------------------------------------------------\u001b[0m",
      "\u001b[0;31mNameError\u001b[0m                                 Traceback (most recent call last)",
      "Cell \u001b[0;32mIn[13], line 1\u001b[0m\n\u001b[0;32m----> 1\u001b[0m input_str \u001b[38;5;241m=\u001b[39m \u001b[43msys\u001b[49m\u001b[38;5;241m.\u001b[39mstdin\u001b[38;5;241m.\u001b[39mread()\n\u001b[1;32m      2\u001b[0m input_list \u001b[38;5;241m=\u001b[39m ast\u001b[38;5;241m.\u001b[39mliteral_eval(input_str)\n",
      "\u001b[0;31mNameError\u001b[0m: name 'sys' is not defined"
     ]
    }
   ],
   "source": [
    "input_str = sys.stdin.read()\n",
    "input_list = ast.literal_eval(input_str)\n"
   ]
  },
  {
   "cell_type": "code",
   "execution_count": null,
   "id": "5679d20b-d7f3-491d-8259-1a4ec558ffd3",
   "metadata": {},
   "outputs": [],
   "source": []
  }
 ],
 "metadata": {
  "kernelspec": {
   "display_name": "Python 3 (ipykernel)",
   "language": "python",
   "name": "python3"
  },
  "language_info": {
   "codemirror_mode": {
    "name": "ipython",
    "version": 3
   },
   "file_extension": ".py",
   "mimetype": "text/x-python",
   "name": "python",
   "nbconvert_exporter": "python",
   "pygments_lexer": "ipython3",
   "version": "3.10.0"
  }
 },
 "nbformat": 4,
 "nbformat_minor": 5
}
