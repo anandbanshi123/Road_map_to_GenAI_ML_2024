{
 "cells": [
  {
   "cell_type": "code",
   "execution_count": 3,
   "id": "4e454d91",
   "metadata": {},
   "outputs": [
    {
     "name": "stdout",
     "output_type": "stream",
     "text": [
      "Welcome to Python Session\n",
      "Upgrad\n"
     ]
    }
   ],
   "source": [
    "# Introduction to Python and Basic Syntax\n",
    "print('Welcome to Python Session')\n",
    "print('Upgrad')"
   ]
  },
  {
   "cell_type": "code",
   "execution_count": 4,
   "id": "6229b354",
   "metadata": {},
   "outputs": [
    {
     "name": "stdout",
     "output_type": "stream",
     "text": [
      "$$$\n"
     ]
    }
   ],
   "source": [
    "print(\"$\"*3)"
   ]
  },
  {
   "cell_type": "code",
   "execution_count": 10,
   "id": "df27d2f8",
   "metadata": {},
   "outputs": [
    {
     "name": "stdout",
     "output_type": "stream",
     "text": [
      "Mike\n",
      "John\n",
      "Sally\n"
     ]
    }
   ],
   "source": [
    "# Variables\n",
    "var = \"Mike\"\n",
    "Var = \"John\"\n",
    "print(var)\n",
    "print(Var)\n",
    "VAR = \"Sally\"\n",
    "print(VAR)"
   ]
  },
  {
   "cell_type": "code",
   "execution_count": 12,
   "id": "ec6611ae",
   "metadata": {},
   "outputs": [
    {
     "name": "stdout",
     "output_type": "stream",
     "text": [
      "What is your first number8\n",
      "8\n"
     ]
    }
   ],
   "source": [
    "number = input(\"What is your first number\")\n",
    "print(number)"
   ]
  },
  {
   "cell_type": "code",
   "execution_count": 14,
   "id": "198464f4",
   "metadata": {},
   "outputs": [
    {
     "name": "stdout",
     "output_type": "stream",
     "text": [
      "Enter your name : John\n",
      "Welcome John\n"
     ]
    }
   ],
   "source": [
    "name = input(\"Enter your name : \")\n",
    "print(\"Welcome\", name)"
   ]
  },
  {
   "cell_type": "code",
   "execution_count": 17,
   "id": "2f1f9487",
   "metadata": {},
   "outputs": [
    {
     "name": "stdout",
     "output_type": "stream",
     "text": [
      "<class 'str'>\n"
     ]
    }
   ],
   "source": [
    "integer_num = 10\n",
    "floating_num = 1.3\n",
    "abc = \"John\"\n",
    "boolean = True\n",
    "\n",
    "print(type(abc))"
   ]
  },
  {
   "cell_type": "code",
   "execution_count": 18,
   "id": "6669552b",
   "metadata": {},
   "outputs": [
    {
     "name": "stdout",
     "output_type": "stream",
     "text": [
      "10.0\n"
     ]
    }
   ],
   "source": [
    "print(float(integer_num))"
   ]
  },
  {
   "cell_type": "code",
   "execution_count": 19,
   "id": "0afb3a18",
   "metadata": {},
   "outputs": [
    {
     "name": "stdout",
     "output_type": "stream",
     "text": [
      "13\n",
      "-1\n",
      "42\n",
      "0.8571428571428571\n",
      "279936\n"
     ]
    }
   ],
   "source": [
    "# Arithmatic Operations\n",
    "a = 6\n",
    "b = 7\n",
    "print(a+b)\n",
    "print(a-b)\n",
    "print(a*b)\n",
    "print(a/b)\n",
    "print(a**b)"
   ]
  },
  {
   "cell_type": "code",
   "execution_count": 20,
   "id": "147f9f2b",
   "metadata": {},
   "outputs": [
    {
     "name": "stdout",
     "output_type": "stream",
     "text": [
      "11.857142857142858\n"
     ]
    }
   ],
   "source": [
    "#PEDMAS \n",
    "print((4*5)-9+6/7)"
   ]
  },
  {
   "cell_type": "code",
   "execution_count": 21,
   "id": "e9237221",
   "metadata": {},
   "outputs": [
    {
     "data": {
      "text/plain": [
       "38"
      ]
     },
     "execution_count": 21,
     "metadata": {},
     "output_type": "execute_result"
    }
   ],
   "source": [
    "abc = \"We are learning basic syntax in python\"\n",
    "len(abc)"
   ]
  },
  {
   "cell_type": "code",
   "execution_count": 25,
   "id": "1417a73c",
   "metadata": {},
   "outputs": [
    {
     "data": {
      "text/plain": [
       "'e'"
      ]
     },
     "execution_count": 25,
     "metadata": {},
     "output_type": "execute_result"
    }
   ],
   "source": [
    "abc[1]"
   ]
  },
  {
   "cell_type": "code",
   "execution_count": 27,
   "id": "dd8541ab",
   "metadata": {},
   "outputs": [
    {
     "name": "stdout",
     "output_type": "stream",
     "text": [
      "WE ARE LEARNING BASIC SYNTAX IN PYTHON\n",
      "we are learning basic syntax in python\n"
     ]
    }
   ],
   "source": [
    "print(abc.upper())\n",
    "print(abc.lower())"
   ]
  },
  {
   "cell_type": "code",
   "execution_count": 28,
   "id": "d58721e0",
   "metadata": {},
   "outputs": [
    {
     "name": "stdout",
     "output_type": "stream",
     "text": [
      "    Trim whitespaces   \n",
      "Trim whitespaces\n"
     ]
    }
   ],
   "source": [
    "spaces = \"    Trim whitespaces   \"\n",
    "print(spaces)\n",
    "print(spaces.strip())"
   ]
  },
  {
   "cell_type": "code",
   "execution_count": 29,
   "id": "1983b327",
   "metadata": {},
   "outputs": [
    {
     "name": "stdout",
     "output_type": "stream",
     "text": [
      "2\n"
     ]
    }
   ],
   "source": [
    "print(spaces.count('e'))"
   ]
  },
  {
   "cell_type": "code",
   "execution_count": 30,
   "id": "a3d2de1b",
   "metadata": {},
   "outputs": [
    {
     "name": "stdout",
     "output_type": "stream",
     "text": [
      "Data Analysis in Python\n"
     ]
    }
   ],
   "source": [
    "A = \"Data\"\n",
    "B = \"Analysis\"\n",
    "C = \"Python\"\n",
    "\n",
    "print(\"{0} {1} in {2}\".format(A,B,C))"
   ]
  },
  {
   "cell_type": "code",
   "execution_count": 32,
   "id": "3b3f77a7",
   "metadata": {},
   "outputs": [
    {
     "name": "stdout",
     "output_type": "stream",
     "text": [
      "False\n"
     ]
    }
   ],
   "source": [
    "# Comparison Operators\n",
    "a = 6\n",
    "b = 10\n",
    "print(a>b) # \"==\",\"!=\",\">\",\"<\",\">=\",\"<=\""
   ]
  },
  {
   "cell_type": "code",
   "execution_count": 36,
   "id": "cdfe7bde",
   "metadata": {},
   "outputs": [
    {
     "name": "stdout",
     "output_type": "stream",
     "text": [
      "False\n",
      "True\n",
      "False\n",
      "True\n"
     ]
    }
   ],
   "source": [
    "# logical operators (and, or, not)\n",
    "x = 20\n",
    "print(x>21 and x<25)\n",
    "print(x>21 or x<25 )\n",
    "print(not(x>21 or x<25))\n",
    "print(not(x>21 and x<25))"
   ]
  },
  {
   "cell_type": "code",
   "execution_count": 38,
   "id": "33f7724b",
   "metadata": {},
   "outputs": [
    {
     "name": "stdout",
     "output_type": "stream",
     "text": [
      "25\n"
     ]
    }
   ],
   "source": [
    "# write a python program to find the square of number 5\n",
    "\n",
    "num = 5\n",
    "sq = num**2\n",
    "print(sq)"
   ]
  },
  {
   "cell_type": "code",
   "execution_count": 40,
   "id": "de7238a0",
   "metadata": {},
   "outputs": [
    {
     "name": "stdout",
     "output_type": "stream",
     "text": [
      "Please enter the number you are looking to find a cube2\n",
      "8\n"
     ]
    }
   ],
   "source": [
    "num = int(input(\"Please enter the number you are looking to find a cube\"))\n",
    "cube = num**3\n",
    "print(cube)"
   ]
  },
  {
   "cell_type": "code",
   "execution_count": 41,
   "id": "d7bacccf",
   "metadata": {},
   "outputs": [
    {
     "name": "stdout",
     "output_type": "stream",
     "text": [
      "20.0\n"
     ]
    }
   ],
   "source": [
    "# find the average of three numbers that is 10,20 and 30\n",
    "a = 10\n",
    "b = 20\n",
    "c = 30\n",
    "avg = (a+b+c)/3\n",
    "print(avg)"
   ]
  },
  {
   "cell_type": "code",
   "execution_count": 42,
   "id": "bda58b31",
   "metadata": {},
   "outputs": [
    {
     "name": "stdout",
     "output_type": "stream",
     "text": [
      "Enter the amount: 1000\n",
      "12.195121951219512\n"
     ]
    }
   ],
   "source": [
    "# find the dollar equivalent for INR of amount entered by user and convert that in USD, 1 dollar = INR 82\n",
    "INR = int(input(\"Enter the amount: \")) \n",
    "USD = INR/82 \n",
    "print(USD)"
   ]
  },
  {
   "cell_type": "code",
   "execution_count": 48,
   "id": "46c1c24b",
   "metadata": {},
   "outputs": [
    {
     "name": "stdout",
     "output_type": "stream",
     "text": [
      "a and b are equal\n"
     ]
    }
   ],
   "source": [
    "# if-else conditions\n",
    "a = 300\n",
    "b = 300\n",
    "if b>a:\n",
    "    print('b is greater than a')\n",
    "elif a==b:\n",
    "    print('a and b are equal')\n",
    "else: \n",
    "    print('a is greater than b')"
   ]
  },
  {
   "cell_type": "code",
   "execution_count": 51,
   "id": "5bb08d98",
   "metadata": {},
   "outputs": [
    {
     "name": "stdout",
     "output_type": "stream",
     "text": [
      "Enter your test score: 65\n",
      "You have passed\n"
     ]
    }
   ],
   "source": [
    "score = int(input(\"Enter your test score: \"))\n",
    "passing = 40\n",
    "distinction = 75\n",
    "\n",
    "if score > distinction:\n",
    "    print(\"You scored good marks, earned a distiction!\")\n",
    "\n",
    "if score >= passing and score < distinction:\n",
    "   print(\"You have passed\")\n",
    "    \n",
    "if score < passing:\n",
    "   print(\"Sorry, you have failed\")"
   ]
  },
  {
   "cell_type": "code",
   "execution_count": 54,
   "id": "4a28941c",
   "metadata": {},
   "outputs": [
    {
     "name": "stdout",
     "output_type": "stream",
     "text": [
      "First number: 50\n",
      "Second number: 2\n",
      "100\n"
     ]
    }
   ],
   "source": [
    "# accept two integers from the user and return their product\n",
    "# if the product is greater than 1000, than output should be the sum of two integers rather than the product\n",
    "\n",
    "a = int(input(\"First number: \"))\n",
    "b = int(input(\"Second number: \"))\n",
    "prod = a*b\n",
    "\n",
    "if prod > 1000:\n",
    "    print(a+b)\n",
    "else:\n",
    "    print(prod)\n"
   ]
  },
  {
   "cell_type": "code",
   "execution_count": null,
   "id": "f82c4853",
   "metadata": {},
   "outputs": [],
   "source": [
    "# write a program to print loan eligibility in case applied loan amount > 2* income then not eligible otherwise eligible for loan\n",
    "income = int(input(\"Please provide your income: \"))\n",
    " \n",
    "loan_amount = int(input(\"Please provide your loan amount: \"))\n",
    "\n",
    "if loan_amount >2*income:\n",
    "    print(\"You are not eligible for the loan\")\n",
    "else:\n",
    "    print(\"Eligible for loan\")"
   ]
  },
  {
   "cell_type": "code",
   "execution_count": 56,
   "id": "331f7a7c",
   "metadata": {},
   "outputs": [
    {
     "name": "stdout",
     "output_type": "stream",
     "text": [
      "10 is less than 20\n",
      "12 is less than 20\n",
      "14 is less than 20\n",
      "16 is less than 20\n",
      "18 is less than 20\n"
     ]
    }
   ],
   "source": [
    "# for - while loops\n",
    "# while loops\n",
    "\n",
    "a = 10 #intialization\n",
    "while a<20:\n",
    "    print(a, \"is less than 20\")\n",
    "    a = a+2 # iteration a+=1"
   ]
  },
  {
   "cell_type": "code",
   "execution_count": 64,
   "id": "ea6bc76c",
   "metadata": {},
   "outputs": [
    {
     "name": "stdout",
     "output_type": "stream",
     "text": [
      "1\n",
      "2\n",
      "3\n",
      "4\n",
      "5\n",
      "6\n",
      "7\n",
      "8\n",
      "9\n",
      "10\n"
     ]
    }
   ],
   "source": [
    "# for loop - ranges, data structures (list, dictinaries etc)\n",
    "for num in range(1,11):\n",
    "    print(num)"
   ]
  },
  {
   "cell_type": "code",
   "execution_count": 65,
   "id": "57a1c927",
   "metadata": {},
   "outputs": [
    {
     "name": "stdout",
     "output_type": "stream",
     "text": [
      "W\n",
      "e\n",
      " \n",
      "a\n",
      "r\n",
      "e\n",
      " \n",
      "l\n",
      "e\n",
      "a\n",
      "r\n",
      "n\n",
      "i\n",
      "n\n",
      "g\n",
      " \n",
      "p\n",
      "y\n",
      "t\n",
      "h\n",
      "o\n",
      "n\n"
     ]
    }
   ],
   "source": [
    "# looping a string\n",
    "my_string = \"We are learning python\"\n",
    "for alphabet in my_string:\n",
    "    print(alphabet)"
   ]
  },
  {
   "cell_type": "code",
   "execution_count": null,
   "id": "bc5ec523",
   "metadata": {},
   "outputs": [],
   "source": [
    "name = \"Fred\"\n",
    "print(f\"The name is {name}\")"
   ]
  }
 ],
 "metadata": {
  "kernelspec": {
   "display_name": "Python 3 (ipykernel)",
   "language": "python",
   "name": "python3"
  },
  "language_info": {
   "codemirror_mode": {
    "name": "ipython",
    "version": 3
   },
   "file_extension": ".py",
   "mimetype": "text/x-python",
   "name": "python",
   "nbconvert_exporter": "python",
   "pygments_lexer": "ipython3",
   "version": "3.10.0"
  }
 },
 "nbformat": 4,
 "nbformat_minor": 5
}
