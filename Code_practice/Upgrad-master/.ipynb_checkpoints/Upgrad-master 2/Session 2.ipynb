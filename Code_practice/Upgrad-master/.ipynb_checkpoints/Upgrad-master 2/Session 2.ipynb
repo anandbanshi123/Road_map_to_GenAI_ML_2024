{
 "cells": [
  {
   "cell_type": "code",
   "execution_count": null,
   "id": "fc622611",
   "metadata": {},
   "outputs": [],
   "source": [
    "# Data structures - List, Tuples, Dictionaries, Sets"
   ]
  },
  {
   "cell_type": "code",
   "execution_count": 1,
   "id": "1d057de1",
   "metadata": {},
   "outputs": [
    {
     "name": "stdout",
     "output_type": "stream",
     "text": [
      "['apple', 'banana', 'kiwi', 'pineapple']\n"
     ]
    }
   ],
   "source": [
    "# list are muttable\n",
    "a = ['apple','banana','kiwi','pineapple']\n",
    "print(a)"
   ]
  },
  {
   "cell_type": "code",
   "execution_count": 2,
   "id": "db86be37",
   "metadata": {},
   "outputs": [
    {
     "data": {
      "text/plain": [
       "list"
      ]
     },
     "execution_count": 2,
     "metadata": {},
     "output_type": "execute_result"
    }
   ],
   "source": [
    "type(a)"
   ]
  },
  {
   "cell_type": "code",
   "execution_count": 3,
   "id": "0b2ab46e",
   "metadata": {},
   "outputs": [
    {
     "name": "stdout",
     "output_type": "stream",
     "text": [
      "pineapple\n"
     ]
    }
   ],
   "source": [
    "print(a[3])"
   ]
  },
  {
   "cell_type": "code",
   "execution_count": 4,
   "id": "68268cc3",
   "metadata": {},
   "outputs": [
    {
     "name": "stdout",
     "output_type": "stream",
     "text": [
      "banana\n"
     ]
    }
   ],
   "source": [
    "print(a[-3])"
   ]
  },
  {
   "cell_type": "code",
   "execution_count": 6,
   "id": "a3f79dea",
   "metadata": {},
   "outputs": [
    {
     "name": "stdout",
     "output_type": "stream",
     "text": [
      "['apple', 'banana', 'kiwi', 'pineapple']\n"
     ]
    }
   ],
   "source": [
    "print(a[:4])"
   ]
  },
  {
   "cell_type": "code",
   "execution_count": 8,
   "id": "712182dc",
   "metadata": {},
   "outputs": [
    {
     "name": "stdout",
     "output_type": "stream",
     "text": [
      "Not Available\n"
     ]
    }
   ],
   "source": [
    "if \"grapes\" in a:\n",
    "    print(\"Yes, it's available in the list\")\n",
    "else:\n",
    "    print(\"Not Available\")"
   ]
  },
  {
   "cell_type": "code",
   "execution_count": 9,
   "id": "c0c09e0c",
   "metadata": {},
   "outputs": [],
   "source": [
    "a[2] = 'grapes'"
   ]
  },
  {
   "cell_type": "code",
   "execution_count": 17,
   "id": "6cfaccb5",
   "metadata": {},
   "outputs": [
    {
     "name": "stdout",
     "output_type": "stream",
     "text": [
      "['apple', 'strawberry', 'banana', 'grapes', 'pineapple', 'kiwi', 'a', 'b', 'c']\n"
     ]
    }
   ],
   "source": [
    "print(a)"
   ]
  },
  {
   "cell_type": "code",
   "execution_count": 11,
   "id": "a897c3b7",
   "metadata": {},
   "outputs": [],
   "source": [
    "a.append(\"kiwi\")"
   ]
  },
  {
   "cell_type": "code",
   "execution_count": 13,
   "id": "e33c0c44",
   "metadata": {},
   "outputs": [],
   "source": [
    "a.insert(1,'strawberry')"
   ]
  },
  {
   "cell_type": "code",
   "execution_count": 15,
   "id": "e4a77489",
   "metadata": {},
   "outputs": [],
   "source": [
    "b = ['a','b','c']"
   ]
  },
  {
   "cell_type": "code",
   "execution_count": 16,
   "id": "83938352",
   "metadata": {},
   "outputs": [],
   "source": [
    "a.extend(b)"
   ]
  },
  {
   "cell_type": "code",
   "execution_count": 18,
   "id": "78b37b4b",
   "metadata": {},
   "outputs": [
    {
     "data": {
      "text/plain": [
       "'grapes'"
      ]
     },
     "execution_count": 18,
     "metadata": {},
     "output_type": "execute_result"
    }
   ],
   "source": [
    "a.pop(3)"
   ]
  },
  {
   "cell_type": "code",
   "execution_count": 19,
   "id": "72974cef",
   "metadata": {},
   "outputs": [
    {
     "name": "stdout",
     "output_type": "stream",
     "text": [
      "['apple', 'strawberry', 'banana', 'pineapple', 'a', 'b', 'c']\n"
     ]
    }
   ],
   "source": [
    "del a[4]\n",
    "print(a)"
   ]
  },
  {
   "cell_type": "code",
   "execution_count": 20,
   "id": "150ef616",
   "metadata": {},
   "outputs": [
    {
     "name": "stdout",
     "output_type": "stream",
     "text": [
      "['a', 'apple', 'b', 'banana', 'c', 'pineapple', 'strawberry']\n"
     ]
    }
   ],
   "source": [
    "a.sort()\n",
    "print(a)"
   ]
  },
  {
   "cell_type": "raw",
   "id": "00ae19ca",
   "metadata": {},
   "source": [
    "a.sort(reverse = True)"
   ]
  },
  {
   "cell_type": "code",
   "execution_count": 22,
   "id": "dfd0595a",
   "metadata": {},
   "outputs": [
    {
     "name": "stdout",
     "output_type": "stream",
     "text": [
      "['strawberry', 'pineapple', 'c', 'banana', 'b', 'apple', 'a']\n"
     ]
    }
   ],
   "source": [
    "a.sort(reverse = True)\n",
    "print(a)"
   ]
  },
  {
   "cell_type": "code",
   "execution_count": 23,
   "id": "063e30a5",
   "metadata": {},
   "outputs": [
    {
     "name": "stdout",
     "output_type": "stream",
     "text": [
      "['strawberry', 'pineapple', 'c', 'banana', 'b', 'apple', 'a', 100, 82, 30, 24]\n"
     ]
    }
   ],
   "source": [
    "c = [100,[82,30],24]\n",
    "d = a + c\n",
    "print(d)"
   ]
  },
  {
   "cell_type": "code",
   "execution_count": 24,
   "id": "b3930fab",
   "metadata": {},
   "outputs": [
    {
     "name": "stdout",
     "output_type": "stream",
     "text": [
      "('apple', 'banana', 'kiwi')\n"
     ]
    }
   ],
   "source": [
    "# Tuples are immutable\n",
    "a = ('apple','banana','kiwi')\n",
    "print(a)"
   ]
  },
  {
   "cell_type": "code",
   "execution_count": 25,
   "id": "bacdb7e7",
   "metadata": {},
   "outputs": [
    {
     "data": {
      "text/plain": [
       "tuple"
      ]
     },
     "execution_count": 25,
     "metadata": {},
     "output_type": "execute_result"
    }
   ],
   "source": [
    "type(a)"
   ]
  },
  {
   "cell_type": "code",
   "execution_count": 26,
   "id": "a40819a8",
   "metadata": {},
   "outputs": [
    {
     "name": "stdout",
     "output_type": "stream",
     "text": [
      "strawberry\n",
      "pineapple\n",
      "c\n",
      "banana\n",
      "b\n",
      "apple\n",
      "a\n",
      "100\n",
      "82\n",
      "30\n",
      "24\n"
     ]
    }
   ],
   "source": [
    "for x in d:\n",
    "    print(x)"
   ]
  },
  {
   "cell_type": "code",
   "execution_count": 27,
   "id": "bbeb82f8",
   "metadata": {},
   "outputs": [],
   "source": [
    "# Dictionaries\n",
    "a = {'Emp Name': 'Karan',\n",
    "    'Emp ID': 1234,\n",
    "    'Emp Class': 'Data Science',\n",
    "    'Emp Marks': 85}"
   ]
  },
  {
   "cell_type": "code",
   "execution_count": 28,
   "id": "4d1919b6",
   "metadata": {},
   "outputs": [
    {
     "data": {
      "text/plain": [
       "dict_keys(['Emp Name', 'Emp ID', 'Emp Class', 'Emp Marks'])"
      ]
     },
     "execution_count": 28,
     "metadata": {},
     "output_type": "execute_result"
    }
   ],
   "source": [
    "a.keys()"
   ]
  },
  {
   "cell_type": "code",
   "execution_count": 29,
   "id": "bfe5b172",
   "metadata": {},
   "outputs": [
    {
     "data": {
      "text/plain": [
       "dict_values(['Karan', 1234, 'Data Science', 85])"
      ]
     },
     "execution_count": 29,
     "metadata": {},
     "output_type": "execute_result"
    }
   ],
   "source": [
    "a.values()"
   ]
  },
  {
   "cell_type": "code",
   "execution_count": 32,
   "id": "35c6c07d",
   "metadata": {},
   "outputs": [
    {
     "data": {
      "text/plain": [
       "dict_items([('Emp Name', 'Karan'), ('Emp ID', 5678), ('Emp Class', 'Data Science'), ('Emp Marks', 85)])"
      ]
     },
     "execution_count": 32,
     "metadata": {},
     "output_type": "execute_result"
    }
   ],
   "source": [
    "a.items()"
   ]
  },
  {
   "cell_type": "code",
   "execution_count": 31,
   "id": "faee38aa",
   "metadata": {},
   "outputs": [],
   "source": [
    "a.update({'Emp ID': 5678})"
   ]
  },
  {
   "cell_type": "code",
   "execution_count": 33,
   "id": "d3701c85",
   "metadata": {},
   "outputs": [
    {
     "data": {
      "text/plain": [
       "{1, 2, 3, 4, 5}"
      ]
     },
     "execution_count": 33,
     "metadata": {},
     "output_type": "execute_result"
    }
   ],
   "source": [
    "# Sets\n",
    "num = [1,3,4,4,2,5,5]\n",
    "set_num = set(num)\n",
    "set_num"
   ]
  },
  {
   "cell_type": "code",
   "execution_count": 34,
   "id": "479d9dda",
   "metadata": {},
   "outputs": [
    {
     "data": {
      "text/plain": [
       "5"
      ]
     },
     "execution_count": 34,
     "metadata": {},
     "output_type": "execute_result"
    }
   ],
   "source": [
    "len(set_num)"
   ]
  },
  {
   "cell_type": "code",
   "execution_count": 35,
   "id": "31bd5bee",
   "metadata": {},
   "outputs": [],
   "source": [
    "# sets operations\n",
    "A = {0,2,4,6,8}\n",
    "B = {1,2,3,4,5}"
   ]
  },
  {
   "cell_type": "code",
   "execution_count": 36,
   "id": "ad21896f",
   "metadata": {},
   "outputs": [
    {
     "name": "stdout",
     "output_type": "stream",
     "text": [
      "{0, 1, 2, 3, 4, 5, 6, 8}\n",
      "{0, 1, 2, 3, 4, 5, 6, 8}\n"
     ]
    }
   ],
   "source": [
    "#union\n",
    "print(A | B)\n",
    "print(A.union(B))"
   ]
  },
  {
   "cell_type": "code",
   "execution_count": 37,
   "id": "6f4dddb4",
   "metadata": {},
   "outputs": [
    {
     "name": "stdout",
     "output_type": "stream",
     "text": [
      "{2, 4}\n",
      "{2, 4}\n"
     ]
    }
   ],
   "source": [
    "# Intersection\n",
    "print(A & B)\n",
    "print(A.intersection(B))"
   ]
  },
  {
   "cell_type": "code",
   "execution_count": 38,
   "id": "5f8022df",
   "metadata": {},
   "outputs": [
    {
     "name": "stdout",
     "output_type": "stream",
     "text": [
      "{0, 8, 6}\n",
      "{0, 8, 6}\n"
     ]
    }
   ],
   "source": [
    "# difference\n",
    "print(A-B)\n",
    "print(A.difference(B))"
   ]
  },
  {
   "cell_type": "code",
   "execution_count": 41,
   "id": "43952f8e",
   "metadata": {},
   "outputs": [
    {
     "name": "stdout",
     "output_type": "stream",
     "text": [
      "1 2 3 4 5 6 7 8 9 10 "
     ]
    }
   ],
   "source": [
    "for a in range(1,11):\n",
    "    print(a,end=\" \")"
   ]
  },
  {
   "cell_type": "code",
   "execution_count": 43,
   "id": "f9f572b5",
   "metadata": {},
   "outputs": [
    {
     "name": "stdout",
     "output_type": "stream",
     "text": [
      "Hyd Mum Blr Del "
     ]
    }
   ],
   "source": [
    "cities = ['Hyd','Mum','Blr','Del']\n",
    "for x in cities:\n",
    "    print(x,end= \" \")"
   ]
  },
  {
   "cell_type": "code",
   "execution_count": 44,
   "id": "2cc932fa",
   "metadata": {},
   "outputs": [
    {
     "name": "stdout",
     "output_type": "stream",
     "text": [
      "Alice 25\n",
      "Bob 30\n",
      "Dan 22\n"
     ]
    }
   ],
   "source": [
    "names = ['Alice','Bob','Dan']\n",
    "age = [25,30,22]\n",
    "\n",
    "for x,y in zip(names,age):\n",
    "    print(x,y)"
   ]
  },
  {
   "cell_type": "code",
   "execution_count": 45,
   "id": "985bb4f8",
   "metadata": {},
   "outputs": [
    {
     "name": "stdout",
     "output_type": "stream",
     "text": [
      "Alice\n",
      "Bob\n"
     ]
    }
   ],
   "source": [
    "# for - break\n",
    "for a in names:\n",
    "    print(a)\n",
    "    if a == 'Bob':\n",
    "        break"
   ]
  },
  {
   "cell_type": "code",
   "execution_count": 47,
   "id": "f142b922",
   "metadata": {},
   "outputs": [
    {
     "name": "stdout",
     "output_type": "stream",
     "text": [
      "Alice\n",
      "Dan\n"
     ]
    }
   ],
   "source": [
    "# for - continue\n",
    "for a in names:\n",
    "    if a == \"Bob\":\n",
    "       continue\n",
    "    print(a)"
   ]
  },
  {
   "cell_type": "code",
   "execution_count": 48,
   "id": "bf9254f0",
   "metadata": {},
   "outputs": [
    {
     "name": "stdout",
     "output_type": "stream",
     "text": [
      "10\n",
      "20\n",
      "25\n",
      "55\n",
      "60\n"
     ]
    }
   ],
   "source": [
    "# iterate through the list and print only those numbers which are divisble by 5\n",
    "list1 = [10,20,25,21,34,55,60]\n",
    "for x in list1:\n",
    "    if x%5==0:\n",
    "        print(x)"
   ]
  },
  {
   "cell_type": "code",
   "execution_count": 50,
   "id": "e0f1edcc",
   "metadata": {},
   "outputs": [
    {
     "name": "stdout",
     "output_type": "stream",
     "text": [
      "Please enter the number: 5\n",
      "5\n",
      "10\n",
      "15\n",
      "20\n",
      "25\n",
      "30\n",
      "35\n",
      "40\n",
      "45\n",
      "50\n"
     ]
    }
   ],
   "source": [
    "# accept a number from user as input and print it's table for a range (1,11)\n",
    "a =  int(input(\"Please enter the number: \"))\n",
    "for x in range(1,11):\n",
    "    product = a*x\n",
    "    print(product)"
   ]
  },
  {
   "cell_type": "code",
   "execution_count": 52,
   "id": "371579c7",
   "metadata": {},
   "outputs": [
    {
     "name": "stdout",
     "output_type": "stream",
     "text": [
      "1 ['Sam', 24]\n",
      "2 ['Rob', 25]\n",
      "3 ['Jack', 26]\n",
      "4 ['Camry', 24]\n"
     ]
    }
   ],
   "source": [
    "# iterate over a dictionary\n",
    "student_data = {1:['Sam',24],2:['Rob',25],3:['Jack',26],4:['Camry',24]}\n",
    "for x,y in student_data.items():\n",
    "    print(x,y)"
   ]
  },
  {
   "cell_type": "code",
   "execution_count": 53,
   "id": "51afe977",
   "metadata": {},
   "outputs": [
    {
     "name": "stdout",
     "output_type": "stream",
     "text": [
      "1\n",
      "2\n",
      "3\n",
      "4\n"
     ]
    }
   ],
   "source": [
    "for x in student_data.keys():\n",
    "    print(x)"
   ]
  },
  {
   "cell_type": "code",
   "execution_count": 54,
   "id": "ffbec820",
   "metadata": {},
   "outputs": [
    {
     "name": "stdout",
     "output_type": "stream",
     "text": [
      "['Sam', 24]\n",
      "['Rob', 25]\n",
      "['Jack', 26]\n",
      "['Camry', 24]\n"
     ]
    }
   ],
   "source": [
    "for x in student_data.values():\n",
    "    print(x)"
   ]
  },
  {
   "cell_type": "code",
   "execution_count": 55,
   "id": "b6dea9dc",
   "metadata": {},
   "outputs": [
    {
     "name": "stdout",
     "output_type": "stream",
     "text": [
      "[1, 4, 9, 16, 25, 36, 49, 64, 81, 100]\n"
     ]
    }
   ],
   "source": [
    "square_list = []\n",
    "\n",
    "for x in range(1,11):\n",
    "    square_list.append(x**2)\n",
    "print(square_list)"
   ]
  },
  {
   "cell_type": "code",
   "execution_count": 58,
   "id": "d2ecf8de",
   "metadata": {},
   "outputs": [
    {
     "name": "stdout",
     "output_type": "stream",
     "text": [
      "[1, 8, 27, 64, 125, 216, 343, 512, 729, 1000]\n"
     ]
    }
   ],
   "source": [
    "#list comprehension\n",
    "square_list = [x**3 for x in range(1,11)]\n",
    "print(square_list)"
   ]
  },
  {
   "cell_type": "code",
   "execution_count": 59,
   "id": "5175e285",
   "metadata": {},
   "outputs": [
    {
     "name": "stdout",
     "output_type": "stream",
     "text": [
      "[1, 4, 9, 16, 25]\n"
     ]
    }
   ],
   "source": [
    "a = [1,2,3,4,5]\n",
    "square = [x**2 for x in a]\n",
    "print(square)"
   ]
  },
  {
   "cell_type": "code",
   "execution_count": 60,
   "id": "92117fb1",
   "metadata": {},
   "outputs": [
    {
     "name": "stdout",
     "output_type": "stream",
     "text": [
      "[5, 6, 4, 9]\n"
     ]
    }
   ],
   "source": [
    "words = ['apple','banana','kiwi','pineapple']\n",
    "length = [len(x) for x in words]\n",
    "print(length)"
   ]
  },
  {
   "cell_type": "code",
   "execution_count": 61,
   "id": "84d46f17",
   "metadata": {},
   "outputs": [
    {
     "name": "stdout",
     "output_type": "stream",
     "text": [
      "{'apple': 5, 'banana': 6, 'kiwi': 4, 'pineapple': 9}\n"
     ]
    }
   ],
   "source": [
    "length = {x:len(x) for x in words}\n",
    "print(length)"
   ]
  },
  {
   "cell_type": "code",
   "execution_count": 62,
   "id": "efcc7e59",
   "metadata": {},
   "outputs": [
    {
     "name": "stdout",
     "output_type": "stream",
     "text": [
      "{'a': 1, 'b': 2, 'c': 3, 'd': 4}\n",
      "{'a': 1, 'b': 8, 'c': 27, 'd': 64}\n"
     ]
    }
   ],
   "source": [
    "# dictionary comprehension\n",
    "original = {'a':1,'b':2,'c':3,'d':4}\n",
    "new = {x:y**3 for x,y in original.items()}\n",
    "print(original)\n",
    "print(new)"
   ]
  },
  {
   "cell_type": "code",
   "execution_count": 63,
   "id": "5274fefb",
   "metadata": {},
   "outputs": [
    {
     "data": {
      "text/plain": [
       "dict"
      ]
     },
     "execution_count": 63,
     "metadata": {},
     "output_type": "execute_result"
    }
   ],
   "source": [
    "type(new)"
   ]
  },
  {
   "cell_type": "code",
   "execution_count": 65,
   "id": "3e96e45c",
   "metadata": {},
   "outputs": [
    {
     "name": "stdout",
     "output_type": "stream",
     "text": [
      "Enter the number: 35\n",
      "35 is divisible by 5 and 7\n"
     ]
    }
   ],
   "source": [
    "# python program to check whether the input number from a user is divisible by both 5 and 7 \n",
    "#hint - num%7==0\n",
    "num = int(input(\"Enter the number: \"))\n",
    "if ((num%5==0) and (num%7==0)):\n",
    "   print(num, 'is divisible by 5 and 7')\n",
    "else:\n",
    "   print(num, 'is not divisible by 5 and 7')"
   ]
  },
  {
   "cell_type": "code",
   "execution_count": 66,
   "id": "94eec644",
   "metadata": {},
   "outputs": [
    {
     "name": "stdout",
     "output_type": "stream",
     "text": [
      "12\n",
      "15\n",
      "18\n",
      "21\n",
      "24\n",
      "27\n",
      "30\n",
      "33\n",
      "36\n",
      "39\n",
      "42\n",
      "45\n",
      "48\n"
     ]
    }
   ],
   "source": [
    "# program to display all the multiples of 3 in the range of 10 to 50\n",
    "for x in range(10,50):\n",
    "    if(x%3==0):\n",
    "        print(x)"
   ]
  },
  {
   "cell_type": "code",
   "execution_count": 67,
   "id": "9a9aba1d",
   "metadata": {},
   "outputs": [
    {
     "name": "stdout",
     "output_type": "stream",
     "text": [
      "Enter word: Upgrad\n",
      "['U', 'p', 'g', 'r', 'a', 'd']\n"
     ]
    }
   ],
   "source": [
    "# write a program which takes a word as input and return vowel counts in that word\n",
    "\n",
    "word = input(\"Enter word: \") \n",
    "vowels = [x for x in word if x in \"aeiou\" or \"AEIOU\"] \n",
    "print(vowels)"
   ]
  },
  {
   "cell_type": "code",
   "execution_count": 68,
   "id": "67ea1812",
   "metadata": {},
   "outputs": [
    {
     "name": "stdout",
     "output_type": "stream",
     "text": [
      "Enter a word: Upgrad\n",
      "2\n"
     ]
    }
   ],
   "source": [
    "vowels = 'aeiouAEIOU'\n",
    "vowel_count = 0\n",
    "word = input(\"Enter a word: \")\n",
    "for char in word:\n",
    "    if char in vowels:\n",
    "        vowel_count += 1\n",
    "print(vowel_count)"
   ]
  },
  {
   "cell_type": "code",
   "execution_count": 69,
   "id": "1cd3a0a4",
   "metadata": {},
   "outputs": [
    {
     "name": "stdout",
     "output_type": "stream",
     "text": [
      "Enter a word: Upgrad\n",
      "1\n"
     ]
    }
   ],
   "source": [
    "vowels = 'aeiou'\n",
    "vowel_count = 0\n",
    "word = input(\"Enter a word: \")\n",
    "for char in word:\n",
    "    if char in vowels:\n",
    "        vowel_count += 1\n",
    "print(vowel_count)"
   ]
  },
  {
   "cell_type": "code",
   "execution_count": 70,
   "id": "9aa35e58",
   "metadata": {},
   "outputs": [
    {
     "name": "stdout",
     "output_type": "stream",
     "text": [
      "[45.0, 63.0, 108.0, 270.0, 405.0]\n"
     ]
    }
   ],
   "source": [
    "# given a list of product prices, we need to come up with a new list of discounted prices by 10%\n",
    "prices = [50,70,120,300,450]\n",
    "new = [x*0.9 for x in prices]\n",
    "print(new)"
   ]
  },
  {
   "cell_type": "code",
   "execution_count": 72,
   "id": "1486a806",
   "metadata": {},
   "outputs": [
    {
     "name": "stdout",
     "output_type": "stream",
     "text": [
      "{'laptop': 31500.0, 'smartphone': 13500.0, 'Headphones': 10800.0, 'Tablet': 18000.0}\n"
     ]
    }
   ],
   "source": [
    "prices = {'laptop': 35000,'smartphone': 15000,'Headphones': 12000, 'Tablet': 20000}\n",
    "new = {x:y*0.9 for x,y in prices.items()}\n",
    "print(new)\n"
   ]
  },
  {
   "cell_type": "code",
   "execution_count": 74,
   "id": "b21de9fe",
   "metadata": {},
   "outputs": [],
   "source": [
    "# functions\n",
    "def greet():\n",
    "    print('We are learning python')"
   ]
  },
  {
   "cell_type": "code",
   "execution_count": 75,
   "id": "3ce71032",
   "metadata": {},
   "outputs": [
    {
     "name": "stdout",
     "output_type": "stream",
     "text": [
      "We are learning python\n"
     ]
    }
   ],
   "source": [
    "greet()"
   ]
  },
  {
   "cell_type": "code",
   "execution_count": 77,
   "id": "1f23b0f6",
   "metadata": {},
   "outputs": [],
   "source": [
    "def square(num):\n",
    "    out = num**2\n",
    "    return(out)"
   ]
  },
  {
   "cell_type": "code",
   "execution_count": 78,
   "id": "62739d20",
   "metadata": {},
   "outputs": [
    {
     "data": {
      "text/plain": [
       "16"
      ]
     },
     "execution_count": 78,
     "metadata": {},
     "output_type": "execute_result"
    }
   ],
   "source": [
    "square(4)"
   ]
  },
  {
   "cell_type": "code",
   "execution_count": 79,
   "id": "9f1bdf21",
   "metadata": {},
   "outputs": [],
   "source": [
    "def count_vowels(word):\n",
    "    vowels = 'aeiouAEIOU'\n",
    "    vowel_count = 0\n",
    "    for char in word:\n",
    "       if char in vowels:\n",
    "         vowel_count += 1\n",
    "    return vowel_count\n",
    "    "
   ]
  },
  {
   "cell_type": "code",
   "execution_count": 82,
   "id": "f27905ab",
   "metadata": {},
   "outputs": [
    {
     "data": {
      "text/plain": [
       "7"
      ]
     },
     "execution_count": 82,
     "metadata": {},
     "output_type": "execute_result"
    }
   ],
   "source": [
    "count_vowels('Python is easy to learn')"
   ]
  },
  {
   "cell_type": "code",
   "execution_count": 84,
   "id": "cca0e10f",
   "metadata": {},
   "outputs": [
    {
     "name": "stdout",
     "output_type": "stream",
     "text": [
      "7\n"
     ]
    }
   ],
   "source": [
    "# lambda function\n",
    "\n",
    "product = lambda x,y : x+y\n",
    "print(product(3,4))"
   ]
  },
  {
   "cell_type": "code",
   "execution_count": 86,
   "id": "73101a67",
   "metadata": {},
   "outputs": [
    {
     "data": {
      "text/plain": [
       "'odd'"
      ]
     },
     "execution_count": 86,
     "metadata": {},
     "output_type": "execute_result"
    }
   ],
   "source": [
    "#function to check whether number is even or odd\n",
    "\n",
    "f =  lambda x: 'even' if x%2==0 else 'odd'\n",
    "f(13)"
   ]
  }
 ],
 "metadata": {
  "kernelspec": {
   "display_name": "Python 3 (ipykernel)",
   "language": "python",
   "name": "python3"
  },
  "language_info": {
   "codemirror_mode": {
    "name": "ipython",
    "version": 3
   },
   "file_extension": ".py",
   "mimetype": "text/x-python",
   "name": "python",
   "nbconvert_exporter": "python",
   "pygments_lexer": "ipython3",
   "version": "3.10.9"
  }
 },
 "nbformat": 4,
 "nbformat_minor": 5
}
