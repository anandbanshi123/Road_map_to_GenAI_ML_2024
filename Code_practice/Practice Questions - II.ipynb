{
 "cells": [
  {
   "cell_type": "code",
   "execution_count": 4,
   "id": "8ec1d973-4bb7-44ae-9e50-c4a4771cb5f0",
   "metadata": {},
   "outputs": [
    {
     "name": "stdin",
     "output_type": "stream",
     "text": [
      " 12\n"
     ]
    },
    {
     "name": "stdout",
     "output_type": "stream",
     "text": [
      "<class 'str'>\n"
     ]
    }
   ],
   "source": [
    "inp=input()\n",
    "inp1=type(inp)\n",
    "print(inp1)"
   ]
  },
  {
   "cell_type": "code",
   "execution_count": null,
   "id": "3620eb91-b365-47a0-b47c-dc88f2a1bd4a",
   "metadata": {},
   "outputs": [],
   "source": []
  }
 ],
 "metadata": {
  "kernelspec": {
   "display_name": "Python 3 (ipykernel)",
   "language": "python",
   "name": "python3"
  },
  "language_info": {
   "codemirror_mode": {
    "name": "ipython",
    "version": 3
   },
   "file_extension": ".py",
   "mimetype": "text/x-python",
   "name": "python",
   "nbconvert_exporter": "python",
   "pygments_lexer": "ipython3",
   "version": "3.10.0"
  }
 },
 "nbformat": 4,
 "nbformat_minor": 5
}
