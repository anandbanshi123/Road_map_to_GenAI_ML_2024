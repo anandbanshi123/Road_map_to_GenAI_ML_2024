{
 "cells": [
  {
   "cell_type": "code",
   "execution_count": 1,
   "id": "0667ef96-d8db-4214-ac26-ed8787919721",
   "metadata": {},
   "outputs": [
    {
     "name": "stdout",
     "output_type": "stream",
     "text": [
      "hi\n"
     ]
    }
   ],
   "source": [
    "print(\"hi\")"
   ]
  },
  {
   "cell_type": "code",
   "execution_count": 2,
   "id": "be4a9498-b946-47ab-b715-9d7eef415289",
   "metadata": {},
   "outputs": [
    {
     "name": "stdout",
     "output_type": "stream",
     "text": [
      "22\n"
     ]
    }
   ],
   "source": [
    "h =10\n",
    "y=12\n",
    "print(h+y)\n"
   ]
  },
  {
   "cell_type": "code",
   "execution_count": 3,
   "id": "60e3ae6a-009d-4cb4-91ff-b2868cc4cd22",
   "metadata": {},
   "outputs": [
    {
     "name": "stdout",
     "output_type": "stream",
     "text": [
      "archika False\n"
     ]
    }
   ],
   "source": [
    "name ='archika'\n",
    "h=10\n",
    "x=23\n",
    "print(name,h>x)\n",
    "\n"
   ]
  },
  {
   "cell_type": "code",
   "execution_count": 4,
   "id": "c95e540c-a987-4d4a-9704-a6ce02fe9998",
   "metadata": {},
   "outputs": [
    {
     "name": "stdout",
     "output_type": "stream",
     "text": [
      "the diameter of earth is 12734.\n"
     ]
    }
   ],
   "source": [
    "planet='earth'\n",
    "daimeter=12734\n",
    "print(f'the diameter of {planet} is {daimeter}.')"
   ]
  },
  {
   "cell_type": "code",
   "execution_count": 5,
   "id": "07d9269a-b6b7-4814-941e-05c75392bc2c",
   "metadata": {},
   "outputs": [
    {
     "name": "stdin",
     "output_type": "stream",
     "text": [
      "enter the weight inpound 3\n"
     ]
    },
    {
     "name": "stdout",
     "output_type": "stream",
     "text": [
      "3 pounds in 1.35 kg\n"
     ]
    }
   ],
   "source": [
    "lbs=int(input('enter the weight inpound' ))\n",
    "kg=lbs*.45\n",
    "print(f'{lbs} pounds in {kg} kg')\n",
    "\n",
    "\n"
   ]
  },
  {
   "cell_type": "code",
   "execution_count": 7,
   "id": "607bd4a0-08e8-4745-9342-e98fa5790d74",
   "metadata": {},
   "outputs": [
    {
     "name": "stdin",
     "output_type": "stream",
     "text": [
      "enter the prodcut cost price 6000\n"
     ]
    },
    {
     "name": "stdout",
     "output_type": "stream",
     "text": [
      "Cost price6000 GST tax in 1080.0 total price7080.0\n"
     ]
    }
   ],
   "source": [
    "cp=int(input('enter the prodcut cost price' ))\n",
    "newCP=(cp*.18)+cp\n",
    "gst=(cp*.18)\n",
    "print(f'''\n",
    "Bill summary\n",
    "Cost price :{cp} \n",
    "GST tax    :{gst} \n",
    "Total price :{newCP}''')"
   ]
  },
  {
   "cell_type": "code",
   "execution_count": 11,
   "id": "ee343480-7b9d-471f-a2d1-1dbca3afe99f",
   "metadata": {},
   "outputs": [
    {
     "name": "stdin",
     "output_type": "stream",
     "text": [
      "enter the No 4\n"
     ]
    },
    {
     "name": "stdout",
     "output_type": "stream",
     "text": [
      "+ve 4\n"
     ]
    }
   ],
   "source": [
    "n=int(input('enter the No' ))\n",
    "if n > 0:\n",
    "      print(\"+ve\", n)\n",
    "elif n == 0:\n",
    "  print(\"nuteral\",n )\n",
    "else :\n",
    "  print(\"negative \",n)\n"
   ]
  },
  {
   "cell_type": "code",
   "execution_count": null,
   "id": "1a3aa06b-dc02-4479-97b6-757b92ab3aab",
   "metadata": {},
   "outputs": [],
   "source": [
    "cp=int(input('enter the Product price' ))\n",
    "cCode=int(input('enter the Coupon code' ))\n",
    "if cCode == 'supersaver':\n",
    "      discoun=cp*.15\n",
    "elif cCode == 'savemax':\n",
    "  discoun=cp*.20\n",
    "elif cCode == 'supersix':\n",
    "discoun=cp*.50\n",
    "else :\n",
    "  print(\"Ivalid cupon code \")\n",
    "newCP=(cp*.18)+cp-discoun\n",
    "gst=(cp*.18)\n",
    "\n",
    "print(f'''\n",
    "Bill summary\n",
    "=========\n",
    "Cost price :{cp} \n",
    "GST tax    :{gst} \n",
    "discount   :{discoun}\n",
    "Total price :{newCP}''')"
   ]
  }
 ],
 "metadata": {
  "kernelspec": {
   "display_name": "Python 3 (ipykernel)",
   "language": "python",
   "name": "python3"
  },
  "language_info": {
   "codemirror_mode": {
    "name": "ipython",
    "version": 3
   },
   "file_extension": ".py",
   "mimetype": "text/x-python",
   "name": "python",
   "nbconvert_exporter": "python",
   "pygments_lexer": "ipython3",
   "version": "3.10.0"
  }
 },
 "nbformat": 4,
 "nbformat_minor": 5
}
